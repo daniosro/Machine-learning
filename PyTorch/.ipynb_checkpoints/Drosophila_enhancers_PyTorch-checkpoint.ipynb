{
 "cells": [
  {
   "cell_type": "markdown",
   "id": "e4895e6d-06b7-4efe-b37b-1ef27aea03ae",
   "metadata": {},
   "source": [
    "# Using Pytorch to train a neural network classifier on a dataset of enhancers in Drosophila"
   ]
  },
  {
   "cell_type": "code",
   "execution_count": null,
   "id": "7eb12039-9aa1-4f80-8de3-a710f8c4958f",
   "metadata": {},
   "outputs": [],
   "source": [
    "# Install the required packages\n",
    "pip install genomic-benchmarks\n",
    "pip3 uninstall torch torchvision torchaudio\n",
    "pip3 install --pre torch torchvision torchaudio --extra-index-url https://download.pytorch.org/whl/nightly/cpu"
   ]
  },
  {
   "cell_type": "code",
   "execution_count": 58,
   "id": "dc66621c-008b-4570-82e8-f5fb82586112",
   "metadata": {},
   "outputs": [],
   "source": [
    "#We will download the Drosophila enhancers dataset from https://github.com/\n",
    "#ML-Bioinfo-CEITEC/genomic_benchmarks/tree/main included in the publication by \n",
    "#Grešová, Katarína, et al. \"Genomic benchmarks: a collection of datasets for \n",
    "# genomic sequence classification.\" BMC Genomic Data 24.1 (2023): 25.\n",
    "\n",
    "#Importing the required libraries\n",
    "import torch\n",
    "from torch.nn.utils.rnn import pad_sequence\n",
    "from torch.utils.data import DataLoader, Dataset\n",
    "from torchtext.data.utils import get_tokenizer\n",
    "import torch.nn.functional as F\n",
    "\n",
    "from genomic_benchmarks.dataset_getters.pytorch_datasets import DrosophilaEnhancersStark\n",
    "from genomic_benchmarks.models.torch import CNN\n",
    "from genomic_benchmarks.dataset_getters.utils import coll_factory, LetterTokenizer, build_vocab\n",
    "from genomic_benchmarks.data_check import info"
   ]
  },
  {
   "cell_type": "code",
   "execution_count": 74,
   "id": "440713aa-5553-4659-ae22-73e2f8347035",
   "metadata": {},
   "outputs": [
    {
     "name": "stdout",
     "output_type": "stream",
     "text": [
      "Dataset `drosophila_enhancers_stark` has 2 classes: negative, positive.\n",
      "\n",
      "The length of genomic intervals ranges from 236 to 3237, with average 2118.1238067688746 and median 2142.0.\n",
      "\n",
      "Totally 6914 sequences have been found, 5184 for training and 1730 for testing.\n"
     ]
    },
    {
     "data": {
      "text/html": [
       "<div>\n",
       "<style scoped>\n",
       "    .dataframe tbody tr th:only-of-type {\n",
       "        vertical-align: middle;\n",
       "    }\n",
       "\n",
       "    .dataframe tbody tr th {\n",
       "        vertical-align: top;\n",
       "    }\n",
       "\n",
       "    .dataframe thead th {\n",
       "        text-align: right;\n",
       "    }\n",
       "</style>\n",
       "<table border=\"1\" class=\"dataframe\">\n",
       "  <thead>\n",
       "    <tr style=\"text-align: right;\">\n",
       "      <th></th>\n",
       "      <th>train</th>\n",
       "      <th>test</th>\n",
       "    </tr>\n",
       "  </thead>\n",
       "  <tbody>\n",
       "    <tr>\n",
       "      <th>negative</th>\n",
       "      <td>2592</td>\n",
       "      <td>865</td>\n",
       "    </tr>\n",
       "    <tr>\n",
       "      <th>positive</th>\n",
       "      <td>2592</td>\n",
       "      <td>865</td>\n",
       "    </tr>\n",
       "  </tbody>\n",
       "</table>\n",
       "</div>"
      ],
      "text/plain": [
       "          train  test\n",
       "negative   2592   865\n",
       "positive   2592   865"
      ]
     },
     "execution_count": 74,
     "metadata": {},
     "output_type": "execute_result"
    }
   ],
   "source": [
    "#We will create a PyTorch dataset object\n",
    "train_dset = DrosophilaEnhancersStark(split='train')\n",
    "#We will take a look at the dataset\n",
    "info('drosophila_enhancers_stark', 0)"
   ]
  },
  {
   "cell_type": "markdown",
   "id": "62c19176-1fe4-492c-a06d-1a9e6453d4da",
   "metadata": {},
   "source": [
    "Now, we will create tokenizer for the dataset, to classify the data into numerical categories and feed it to neural network. We will use padding to make all the sequences the same length later."
   ]
  },
  {
   "cell_type": "code",
   "execution_count": 14,
   "id": "3fd459a8-07e9-4064-a3e0-fe5b69486e9a",
   "metadata": {},
   "outputs": [
    {
     "name": "stdout",
     "output_type": "stream",
     "text": [
      "vocab len: 7\n",
      "{'<eos>': 6, 'G': 4, 'A': 2, 'C': 3, 'T': 5, '<bos>': 1, '<unk>': 0}\n"
     ]
    }
   ],
   "source": [
    "tokenizer = get_tokenizer(LetterTokenizer())\n",
    "vocabulary = build_vocab(train_dset, tokenizer, use_padding=False)\n",
    "\n",
    "print(\"vocab len:\" ,vocabulary.__len__())\n",
    "print(vocabulary.get_stoi())"
   ]
  },
  {
   "cell_type": "markdown",
   "id": "456db78e-867e-4897-a7f0-feb02b864536",
   "metadata": {},
   "source": [
    "## Dataloader and batch preparation"
   ]
  },
  {
   "cell_type": "code",
   "execution_count": 15,
   "id": "bf6a5437-96ef-4250-9cb6-ba0f8419880b",
   "metadata": {},
   "outputs": [
    {
     "name": "stdout",
     "output_type": "stream",
     "text": [
      "Using mps device\n"
     ]
    }
   ],
   "source": [
    "device = 'mps' if torch.backends.mps.is_available() else 'cpu'\n",
    "print('Using {} device'.format(device))"
   ]
  },
  {
   "cell_type": "code",
   "execution_count": 75,
   "id": "25db7566-857a-4774-9f24-e639250b9e60",
   "metadata": {},
   "outputs": [],
   "source": [
    "#We will use the collate_fn function to combine individual samples and include a \n",
    "#padding to make all the sequences equal to the maximum length\n",
    "collate = coll_factory(vocabulary, tokenizer, device, pad_to_length = 3237)\n",
    "#Parallelizing the data loading\n",
    "train_loader = DataLoader(train_dset, \n",
    "                          batch_size=32, \n",
    "                          shuffle=True, \n",
    "                          collate_fn=collate)"
   ]
  },
  {
   "cell_type": "markdown",
   "id": "5a00ac1e-bcd5-4412-a481-ead38940ff62",
   "metadata": {},
   "source": [
    "## Model"
   ]
  },
  {
   "cell_type": "markdown",
   "id": "c0fbce68-30ad-4713-843e-193f62a7e5da",
   "metadata": {},
   "source": [
    "We will initialize our model. From the padding in the previous step, we know that all inputs are 3237 characters long, and the number of classes is 2."
   ]
  },
  {
   "cell_type": "code",
   "execution_count": 79,
   "id": "bdd93d3c-811e-4ff6-9fb9-8bfd1b7b8b0c",
   "metadata": {},
   "outputs": [],
   "source": [
    "model = CNN(\n",
    "    number_of_classes=2,\n",
    "    vocab_size=vocabulary.__len__(),\n",
    "    embedding_dim=100,\n",
    "    input_len=3237,\n",
    "    device=device\n",
    ").to(device)"
   ]
  },
  {
   "cell_type": "markdown",
   "id": "fb594823-d458-47ad-8090-98989f24832e",
   "metadata": {},
   "source": [
    "## Training"
   ]
  },
  {
   "cell_type": "code",
   "execution_count": 77,
   "id": "98c707a5-57e2-4fe5-a531-14430764bfcd",
   "metadata": {},
   "outputs": [
    {
     "name": "stdout",
     "output_type": "stream",
     "text": [
      "Epoch 0\n"
     ]
    },
    {
     "name": "stderr",
     "output_type": "stream",
     "text": [
      "/opt/anaconda3/lib/python3.11/site-packages/genomic_benchmarks/dataset_getters/utils.py:28: UserWarning: To copy construct from a tensor, it is recommended to use sourceTensor.clone().detach() or sourceTensor.clone().detach().requires_grad_(True), rather than torch.tensor(sourceTensor).\n",
      "  x = torch.tensor(pad(x), dtype=torch.long)\n"
     ]
    },
    {
     "name": "stdout",
     "output_type": "stream",
     "text": [
      "Train metrics: \n",
      " Accuracy: 49.9%, Avg loss: 0.695347 \n",
      "\n",
      "Epoch 1\n",
      "Train metrics: \n",
      " Accuracy: 50.1%, Avg loss: 0.695992 \n",
      "\n",
      "Epoch 2\n",
      "Train metrics: \n",
      " Accuracy: 50.0%, Avg loss: 0.693070 \n",
      "\n",
      "Epoch 3\n",
      "Train metrics: \n",
      " Accuracy: 50.0%, Avg loss: 0.693147 \n",
      "\n",
      "Epoch 4\n",
      "Train metrics: \n",
      " Accuracy: 50.0%, Avg loss: 0.693147 \n",
      "\n"
     ]
    }
   ],
   "source": [
    "model.fit(train_loader, epochs=5)"
   ]
  },
  {
   "cell_type": "markdown",
   "id": "658214d9-1a24-4a78-a09a-9c2fc1a9088c",
   "metadata": {},
   "source": [
    "## Testing"
   ]
  },
  {
   "cell_type": "code",
   "execution_count": 82,
   "id": "a0892658-1e20-42fe-a5d5-8c4063c2f5be",
   "metadata": {},
   "outputs": [],
   "source": [
    "test_dset = DrosophilaEnhancersStark('test', version=0)\n",
    "test_loader = DataLoader(test_dset, batch_size=32, shuffle=False, collate_fn=collate)\n",
    "\n",
    "predictions = []\n",
    "for x,y in test_loader:\n",
    "  output = torch.round(model(x))\n",
    "  for prediction in output.tolist():\n",
    "    predictions.append(prediction[0])"
   ]
  },
  {
   "cell_type": "markdown",
   "id": "226ebf49-6c4f-4c9a-846c-cd53ebb609c4",
   "metadata": {},
   "source": [
    "We will now get the f1 score to determine the model's accuracy."
   ]
  },
  {
   "cell_type": "code",
   "execution_count": 85,
   "id": "148a2f81-0a02-49c8-8756-89160571bac3",
   "metadata": {},
   "outputs": [
    {
     "data": {
      "text/plain": [
       "0.5951492537313433"
      ]
     },
     "execution_count": 85,
     "metadata": {},
     "output_type": "execute_result"
    }
   ],
   "source": [
    "from sklearn.metrics import f1_score\n",
    "from genomic_benchmarks.data_check.info import labels_in_order\n",
    "\n",
    "labels = labels_in_order(dset_name='drosophila_enhancers_stark')\n",
    "f1_score(labels, predictions)"
   ]
  },
  {
   "cell_type": "markdown",
   "id": "96bff623-0296-4cbc-b3ec-f6798718a5cb",
   "metadata": {},
   "source": [
    "We can see that the model made the correct prediction 59% of the time."
   ]
  }
 ],
 "metadata": {
  "kernelspec": {
   "display_name": "Python 3 (ipykernel)",
   "language": "python",
   "name": "python3"
  },
  "language_info": {
   "codemirror_mode": {
    "name": "ipython",
    "version": 3
   },
   "file_extension": ".py",
   "mimetype": "text/x-python",
   "name": "python",
   "nbconvert_exporter": "python",
   "pygments_lexer": "ipython3",
   "version": "3.11.0"
  }
 },
 "nbformat": 4,
 "nbformat_minor": 5
}
